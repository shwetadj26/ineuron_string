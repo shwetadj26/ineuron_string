{
  "nbformat": 4,
  "nbformat_minor": 0,
  "metadata": {
    "colab": {
      "provenance": []
    },
    "kernelspec": {
      "name": "python3",
      "display_name": "Python 3"
    },
    "language_info": {
      "name": "python"
    }
  },
  "cells": [
    {
      "cell_type": "markdown",
      "source": [
        "<aside>\n",
        " **Question 1**\n",
        "\n",
        "Given two strings s1 and s2, return *the lowest **ASCII** sum of deleted characters to make two strings equal*.\n",
        "\n",
        "**Example 1:**\n",
        "\n",
        "**Input:** s1 = \"sea\", s2 = \"eat\"\n",
        "\n",
        "**Output:** 231\n",
        "\n",
        "**Explanation:** Deleting \"s\" from \"sea\" adds the ASCII value of \"s\" (115) to the sum.\n",
        "\n",
        "Deleting \"t\" from \"eat\" adds 116 to the sum.\n",
        "\n",
        "At the end, both strings are equal, and 115 + 116 = 231 is the minimum sum possible to achieve this.\n",
        "\n",
        "</aside>"
      ],
      "metadata": {
        "id": "MbvQrKa2Sl2Z"
      }
    },
    {
      "cell_type": "code",
      "execution_count": 1,
      "metadata": {
        "colab": {
          "base_uri": "https://localhost:8080/"
        },
        "id": "XkjtUNr8ShUP",
        "outputId": "ae8174fd-987a-4e1c-e5c3-be4a66c155c1"
      },
      "outputs": [
        {
          "output_type": "stream",
          "name": "stdout",
          "text": [
            "231\n"
          ]
        }
      ],
      "source": [
        "def minSum(s1, s2):\n",
        "    m, n = len(s1), len(s2)\n",
        "    delsm = [[0] * (n + 1) for _ in range(m + 1)]\n",
        "\n",
        "    for i in range(1, m + 1):\n",
        "        delsm[i][0] = delsm[i-1][0] + ord(s1[i-1])\n",
        "    for j in range(1, n + 1):\n",
        "        delsm[0][j] = delsm[0][j-1] + ord(s2[j-1])\n",
        "\n",
        "    for i in range(1, m + 1):\n",
        "        for j in range(1, n + 1):\n",
        "            if s1[i-1] == s2[j-1]:\n",
        "                delsm[i][j] = delsm[i-1][j-1]\n",
        "            else:\n",
        "                delsm[i][j] = min(delsm[i-1][j] + ord(s1[i-1]), delsm[i][j-1] + ord(s2[j-1]))\n",
        "\n",
        "    return delsm[m][n]\n",
        "s1 = \"sea\"\n",
        "s2 = \"eat\"\n",
        "print(minSum(s1, s2))\n"
      ]
    },
    {
      "cell_type": "markdown",
      "source": [
        "<aside>\n",
        "**Question 2**\n",
        "\n",
        "Given a string s containing only three types of characters: '(', ')' and '*', return true *if* s *is **valid***.\n",
        "\n",
        "The following rules define a **valid** string:\n",
        "\n",
        "- Any left parenthesis '(' must have a corresponding right parenthesis ')'.\n",
        "- Any right parenthesis ')' must have a corresponding left parenthesis '('.\n",
        "- Left parenthesis '(' must go before the corresponding right parenthesis ')'.\n",
        "- '*' could be treated as a single right parenthesis ')' or a single left parenthesis '(' or an empty string \"\".\n",
        "\n",
        "**Example 1:**\n",
        "\n",
        "**Input:** s = \"()\"\n",
        "\n",
        "**Output:**\n",
        "\n",
        "true\n",
        "\n",
        "</aside>"
      ],
      "metadata": {
        "id": "eBH9pPbYTJSg"
      }
    },
    {
      "cell_type": "code",
      "source": [
        "def checkStr(s):\n",
        "    stack = []\n",
        "\n",
        "    \n",
        "    for i in s:\n",
        "        if i == '(' or i == '*':\n",
        "            stack.append(i)\n",
        "        else:\n",
        "            if stack and stack[-1] == '(':\n",
        "                stack.pop()\n",
        "            else:\n",
        "                stack.append(i)\n",
        "\n",
        "    \n",
        "    count = 0\n",
        "    for j in stack:\n",
        "        if j == '(':\n",
        "            count += 1\n",
        "        elif count > 0:\n",
        "            count -= 1\n",
        "\n",
        "    return count == 0\n",
        "\n",
        "s = \"()\"\n",
        "print(checkStr(s))\n"
      ],
      "metadata": {
        "colab": {
          "base_uri": "https://localhost:8080/"
        },
        "id": "AGd14V_mTMdE",
        "outputId": "397af773-293c-40c5-e09e-d341ccf5a630"
      },
      "execution_count": 2,
      "outputs": [
        {
          "output_type": "stream",
          "name": "stdout",
          "text": [
            "True\n"
          ]
        }
      ]
    },
    {
      "cell_type": "markdown",
      "source": [
        "<aside>\n",
        "💡 **Question 3**\n",
        "\n",
        "Given two strings word1 and word2, return *the minimum number of **steps** required to make* word1 *and* word2 *the same*.\n",
        "\n",
        "In one **step**, you can delete exactly one character in either string.\n",
        "\n",
        "**Example 1:**\n",
        "\n",
        "**Input:** word1 = \"sea\", word2 = \"eat\"\n",
        "\n",
        "**Output:** 2\n",
        "\n",
        "**Explanation:** You need one step to make \"sea\" to \"ea\" and another step to make \"eat\" to \"ea\".\n",
        "\n",
        "</aside>"
      ],
      "metadata": {
        "id": "p9v9_fAFVIYZ"
      }
    },
    {
      "cell_type": "code",
      "source": [
        "def minDist(word1, word2):\n",
        "    m = len(word1)\n",
        "    n = len(word2)\n",
        "\n",
        "    minlist = [[0] * (n + 1) for _ in range(m + 1)]\n",
        "\n",
        "    \n",
        "    for i in range(m + 1):\n",
        "        minlist[i][0] = i\n",
        "    for j in range(n + 1):\n",
        "        minlist[0][j] = j\n",
        "\n",
        "    \n",
        "    for i in range(1, m + 1):\n",
        "        for j in range(1, n + 1):\n",
        "            if word1[i - 1] == word2[j - 1]:\n",
        "                minlist[i][j] = minlist[i - 1][j - 1]\n",
        "            else:\n",
        "                minlist[i][j] = min(minlist[i - 1][j], minlist[i][j - 1]) + 1\n",
        "\n",
        "    return minlist[m][n]\n",
        "\n",
        "word1 = \"sea\"\n",
        "word2 = \"eat\"\n",
        "print(minDist(word1, word2))\n"
      ],
      "metadata": {
        "colab": {
          "base_uri": "https://localhost:8080/"
        },
        "id": "0QA8_9j5VLDn",
        "outputId": "ebe22675-838e-452e-ac0c-4ea9f9b9fc05"
      },
      "execution_count": 3,
      "outputs": [
        {
          "output_type": "stream",
          "name": "stdout",
          "text": [
            "2\n"
          ]
        }
      ]
    },
    {
      "cell_type": "markdown",
      "source": [
        "*Question 4**\n",
        "\n",
        "You need to construct a binary tree from a string consisting of parenthesis and integers.\n",
        "\n",
        "The whole input represents a binary tree. It contains an integer followed by zero, one or two pairs of parenthesis. The integer represents the root's value and a pair of parenthesis contains a child binary tree with the same structure.\n",
        "You always start to construct the **left** child node of the parent first if it exists.\n",
        "\n",
        "</aside>**Input:** s = \"4(2(3)(1))(6(5))\"\n",
        "\n",
        "**Output:** [4,2,6,3,1,5]"
      ],
      "metadata": {
        "id": "OBiGLgDXVg4n"
      }
    },
    {
      "cell_type": "code",
      "source": [
        "class Tree:\n",
        "    def __init__(self, val=0, left=None, right=None):\n",
        "        self.val = val\n",
        "        self.left = left\n",
        "        self.right = right\n",
        "\n",
        "\n",
        "def str2tree(s):\n",
        "    if not s:\n",
        "        return None\n",
        "\n",
        "    stack = []\n",
        "    i = 0\n",
        "\n",
        "    while i < len(s):\n",
        "        if s[i].isdigit() or s[i] == '-':\n",
        "            \n",
        "            j = i\n",
        "            while j < len(s) and (s[j].isdigit() or s[j] == '-'):\n",
        "                j += 1\n",
        "            val = int(s[i:j])\n",
        "\n",
        "            \n",
        "            node = Tree(val)\n",
        "\n",
        "            if stack:\n",
        "                \n",
        "                parent = stack[-1]\n",
        "                if parent.left is None:\n",
        "                    parent.left = node\n",
        "                else:\n",
        "                    parent.right = node\n",
        "            stack.append(node)\n",
        "            i = j\n",
        "        elif s[i] == ')':\n",
        "            stack.pop()\n",
        "            i += 1\n",
        "        else:\n",
        "            i += 1\n",
        "\n",
        "    return stack[0]  \n",
        "s = \"4(2(3)(1))(6(5))\"\n",
        "root = str2tree(s)\n",
        "\n",
        "\n",
        "def printTree(node):\n",
        "    if node is None:\n",
        "        return\n",
        "    printTree(node.left)\n",
        "    print(node.val, end=\" \")\n",
        "    printTree(node.right)\n",
        "\n",
        "printTree(root)\n"
      ],
      "metadata": {
        "colab": {
          "base_uri": "https://localhost:8080/"
        },
        "id": "MjP86gQTVph8",
        "outputId": "0a20aa3e-34b9-4a8e-bb89-76aed0191ec8"
      },
      "execution_count": 6,
      "outputs": [
        {
          "output_type": "stream",
          "name": "stdout",
          "text": [
            "3 2 1 4 5 6 "
          ]
        }
      ]
    },
    {
      "cell_type": "markdown",
      "source": [
        "<aside>\n",
        " **Question 5**\n",
        "\n",
        "Given an array of characters chars, compress it using the following algorithm:\n",
        "\n",
        "Begin with an empty string s. For each group of **consecutive repeating characters** in chars:\n",
        "\n",
        "- If the group's length is 1, append the character to s.\n",
        "- Otherwise, append the character followed by the group's length.\n",
        "\n",
        "The compressed string s **should not be returned separately**, but instead, be stored **in the input character array chars**. Note that group lengths that are 10 or longer will be split into multiple characters in chars.\n",
        "\n",
        "After you are done **modifying the input array,** return *the new length of the array*.\n",
        "\n",
        "You must write an algorithm that uses only constant extra space.\n",
        "\n",
        "**Example 1:**\n",
        "\n",
        "**Input:** chars = [\"a\",\"a\",\"b\",\"b\",\"c\",\"c\",\"c\"]\n",
        "\n",
        "**Output:** Return 6, and the first 6 characters of the input array should be: [\"a\",\"2\",\"b\",\"2\",\"c\",\"3\"]\n",
        "\n",
        "**Explanation:**\n",
        "\n",
        "The groups are \"aa\", \"bb\", and \"ccc\". This compresses to \"a2b2c3\".\n",
        "\n",
        "</aside>"
      ],
      "metadata": {
        "id": "RooPBbk-VpFR"
      }
    },
    {
      "cell_type": "code",
      "source": [
        "def compressarray(chars):\n",
        "    write = 0\n",
        "    count = 0\n",
        "    prev = chars[0]\n",
        "\n",
        "    for i in range(len(chars)):\n",
        "        if chars[i] == prev:\n",
        "            count += 1\n",
        "        else:\n",
        "            chars[write] = prev\n",
        "            write += 1\n",
        "            if count > 1:\n",
        "                count_str = str(count)\n",
        "                for digit in count_str:\n",
        "                    chars[write] = digit\n",
        "                    write += 1\n",
        "            count = 1\n",
        "            prev = chars[i]\n",
        "\n",
        "    chars[write] = prev\n",
        "    write += 1\n",
        "    if count > 1:\n",
        "        count_str = str(count)\n",
        "        for digit in count_str:\n",
        "            chars[write] = digit\n",
        "            write += 1\n",
        "\n",
        "    return write\n",
        "chars = [\"a\", \"a\", \"b\", \"b\", \"c\", \"c\", \"c\"]\n",
        "new_length = compressarray(chars)\n",
        "print(new_length)  \n",
        "print(chars[:new_length])  \n"
      ],
      "metadata": {
        "colab": {
          "base_uri": "https://localhost:8080/"
        },
        "id": "WSwzijC9Vo1w",
        "outputId": "bfe3891e-f90d-40fe-c3e4-5317a6f9bc4c"
      },
      "execution_count": 5,
      "outputs": [
        {
          "output_type": "stream",
          "name": "stdout",
          "text": [
            "6\n",
            "['a', '2', 'b', '2', 'c', '3']\n"
          ]
        }
      ]
    },
    {
      "cell_type": "markdown",
      "source": [
        "<aside>\n",
        "**Question 6**\n",
        "\n",
        "Given two strings s and p, return *an array of all the start indices of* p*'s anagrams in* s. You may return the answer in **any order**.\n",
        "\n",
        "An **Anagram** is a word or phrase formed by rearranging the letters of a different word or phrase, typically using all the original letters exactly once.\n",
        "\n",
        "**Example 1:**\n",
        "\n",
        "**Input:** s = \"cbaebabacd\", p = \"abc\"\n",
        "\n",
        "**Output:** [0,6]\n",
        "\n",
        "**Explanation:**\n",
        "\n",
        "The substring with start index = 0 is \"cba\", which is an anagram of \"abc\".\n",
        "\n",
        "The substring with start index = 6 is \"bac\", which is an anagram of \"abc\".\n",
        "\n",
        "</aside>"
      ],
      "metadata": {
        "id": "5bXbn81zWZZS"
      }
    },
    {
      "cell_type": "code",
      "source": [
        "from collections import Counter\n",
        "\n",
        "def Anagrams(s, p):\n",
        "    result = []\n",
        "    freq_p = Counter(p)\n",
        "    freq_s = Counter(s[:len(p)])\n",
        "    matched = 0\n",
        "    left = 0\n",
        "    right = len(p) - 1\n",
        "\n",
        "    \n",
        "    if freq_s == freq_p:\n",
        "        result.append(left)\n",
        "\n",
        "    while right < len(s) - 1:\n",
        "      \n",
        "        freq_s[s[left]] -= 1\n",
        "        if freq_s[s[left]] == 0:\n",
        "            del freq_s[s[left]]\n",
        "        left += 1\n",
        "\n",
        "        \n",
        "        right += 1\n",
        "        freq_s[s[right]] += 1\n",
        "\n",
        "        \n",
        "        if freq_s == freq_p:\n",
        "            result.append(left)\n",
        "\n",
        "    return result\n",
        "s = \"cbaebabacd\"\n",
        "p = \"abc\"\n",
        "result = Anagrams(s, p)\n",
        "print(result)\n"
      ],
      "metadata": {
        "colab": {
          "base_uri": "https://localhost:8080/"
        },
        "id": "ScNdKGm7WbeJ",
        "outputId": "09fafe93-68f7-42b1-d294-a6aa6325c3c2"
      },
      "execution_count": 7,
      "outputs": [
        {
          "output_type": "stream",
          "name": "stdout",
          "text": [
            "[0, 6]\n"
          ]
        }
      ]
    },
    {
      "cell_type": "markdown",
      "source": [
        "<aside>\n",
        " **Question 7**\n",
        "\n",
        "Given an encoded string, return its decoded string.\n",
        "\n",
        "The encoding rule is: k[encoded_string], where the encoded_string inside the square brackets is being repeated exactly k times. Note that k is guaranteed to be a positive integer.\n",
        "\n",
        "You may assume that the input string is always valid; there are no extra white spaces, square brackets are well-formed, etc. Furthermore, you may assume that the original data does not contain any digits and that digits are only for those repeat numbers, k. For example, there will not be input like 3a or 2[4].\n",
        "\n",
        "The test cases are generated so that the length of the output will never exceed 105.\n",
        "\n",
        "**Example 1:**\n",
        "\n",
        "**Input:** s = \"3[a]2[bc]\"\n",
        "\n",
        "**Output:** \"aaabcbc\"\n",
        "\n",
        "</aside>"
      ],
      "metadata": {
        "id": "w-Kmg4P9Wv6f"
      }
    },
    {
      "cell_type": "code",
      "source": [
        "def decodeString(s):\n",
        "    stack = []\n",
        "    str = \"\"\n",
        "    num = 0\n",
        "\n",
        "    for i in s:\n",
        "        if i.isdigit():\n",
        "            num = num * 10 + int(i)\n",
        "        elif i == '[':\n",
        "            stack.append((str, num))\n",
        "            str = \"\"\n",
        "            num = 0\n",
        "        elif i == ']':\n",
        "            prev_str, repetition_count = stack.pop()\n",
        "            curr_str = prev_str + curr_str * repetition_count\n",
        "        else:\n",
        "            curr_str += i\n",
        "\n",
        "    return curr_str\n",
        "\n",
        "s = \"3[a]2[bc]\"\n",
        "result = decodeString(s)\n",
        "print(result)\n"
      ],
      "metadata": {
        "colab": {
          "base_uri": "https://localhost:8080/"
        },
        "id": "WhrFDPX4W1i6",
        "outputId": "0fb7e25c-af97-4023-c9a2-9157b9598ae9"
      },
      "execution_count": 8,
      "outputs": [
        {
          "output_type": "stream",
          "name": "stdout",
          "text": [
            "aaabcbc\n"
          ]
        }
      ]
    },
    {
      "cell_type": "markdown",
      "source": [
        "<aside>\n",
        "**Question 8**\n",
        "\n",
        "Given two strings s and goal, return true *if you can swap two letters in* s *so the result is equal to* goal*, otherwise, return* false*.*\n",
        "\n",
        "Swapping letters is defined as taking two indices i and j (0-indexed) such that i != j and swapping the characters at s[i] and s[j].\n",
        "\n",
        "- For example, swapping at indices 0 and 2 in \"abcd\" results in \"cbad\".\n",
        "\n",
        "**Example 1:**\n",
        "\n",
        "**Input:** s = \"ab\", goal = \"ba\"\n",
        "\n",
        "**Output:** true\n",
        "\n",
        "**Explanation:** You can swap s[0] = 'a' and s[1] = 'b' to get \"ba\", which is equal to goal.\n",
        "\n",
        "</aside>"
      ],
      "metadata": {
        "id": "2sPevR3VW-0M"
      }
    },
    {
      "cell_type": "code",
      "source": [
        "def Strings(s, goal):\n",
        "    if len(s) != len(goal):\n",
        "        return False\n",
        "\n",
        "    if s == goal and len(set(s)) < len(s):\n",
        "        return True\n",
        "\n",
        "    diff_indices = []\n",
        "    diff_count = 0\n",
        "\n",
        "    for i in range(len(s)):\n",
        "        if s[i] != goal[i]:\n",
        "            diff_count += 1\n",
        "            diff_indices.append(i)\n",
        "\n",
        "    if diff_count == 2:\n",
        "        i, j = diff_indices\n",
        "        if s[i] == goal[j] and s[j] == goal[i]:\n",
        "            return True\n",
        "\n",
        "    return False\n",
        "    \n",
        "s = \"ab\"\n",
        "goal = \"ba\"\n",
        "result = Strings(s, goal)\n",
        "print(result)\n"
      ],
      "metadata": {
        "colab": {
          "base_uri": "https://localhost:8080/"
        },
        "id": "Xd0-yJ5oW1fA",
        "outputId": "ac760a34-7d9f-4279-c51f-8a63b1dd1433"
      },
      "execution_count": 9,
      "outputs": [
        {
          "output_type": "stream",
          "name": "stdout",
          "text": [
            "True\n"
          ]
        }
      ]
    }
  ]
}